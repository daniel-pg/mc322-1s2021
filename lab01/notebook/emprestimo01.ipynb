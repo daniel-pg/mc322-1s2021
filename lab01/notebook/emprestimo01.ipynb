{
 "cells": [
  {
   "cell_type": "markdown",
   "metadata": {},
   "source": [
    "# Exercício do Empréstimo\n",
    "\n",
    "Em um financiamento com juros compostos e número de parcelas fixas parte-se dos seguintes parâmetros:\n",
    "* `S` - valor da primeira parcela\n",
    "* `N` - número de parcelas\n",
    "* `J` - percentual de juros mensal\n",
    "\n",
    "A primeira parcela a ser paga do financiamento é sempre igual a `S`. A partir daí é feita uma atualização mensal da parcela, em que cada nova parcela é calculada a partir da parcela do mês anterior, conforme a fórmula:\n",
    "\n",
    "> parcela_mês<sub>i</sub> = parcela_mês<sub>i-1</sub> * (1 + `J` / 100)\n",
    "\n",
    "O financiamento encerra quando as `N` parcelas são pagas.\n",
    "\n",
    "Exemplo:\n",
    "* `S`: 200\n",
    "* `N`: 5\n",
    "* `J`: 1%\n",
    "\n",
    "Parcelas do financiamento:\n",
    "`200`; `202`; `204.02`; `206.06`; `208.12`"
   ]
  },
  {
   "cell_type": "markdown",
   "metadata": {},
   "source": [
    "## Exercício Parte 1 - Escrevendo um Programa\n",
    "\n",
    "Dado o problema descrito, escreva um programa que calcule as parcelas de um empréstimo para os seguintes valores:\n",
    "* `S`: 200\n",
    "* `N`: 5\n",
    "* `J`: 1%"
   ]
  },
  {
   "cell_type": "code",
   "execution_count": 9,
   "metadata": {},
   "outputs": [
    {
     "name": "stdout",
     "output_type": "stream",
     "text": [
      "200.00\n",
      "202.00\n",
      "204.02\n",
      "206.06\n",
      "208.12\n"
     ]
    }
   ],
   "source": [
    "#include <stdio.h>\n",
    "\n",
    "int main(){\n",
    "    double S = 200;\n",
    "    const double J = 0.01;\n",
    "    const int N = 5;\n",
    "    \n",
    "    for (int i=0;i<N;i++){\n",
    "        printf(\"%.2f\\n\", S);\n",
    "        S *= (1+J);\n",
    "    }\n",
    "}"
   ]
  },
  {
   "cell_type": "markdown",
   "metadata": {},
   "source": [
    "## Exercício Parte 2 - Escrevendo um Módulo\n",
    "\n",
    "Reescreva o código acima de forma que seu programa faça uso de uma função que seja responsável pelo cálculo de uma parcela X do empréstimo. Utilize as boas práticas de modularização que você aprendeu, evitando dependências do módulo com o programa principal."
   ]
  },
  {
   "cell_type": "code",
   "execution_count": 8,
   "metadata": {},
   "outputs": [
    {
     "name": "stdout",
     "output_type": "stream",
     "text": [
      "200.00\n",
      "202.00\n",
      "204.02\n",
      "206.06\n",
      "208.12\n"
     ]
    }
   ],
   "source": [
    "#include <stdio.h>\n",
    "\n",
    "struct Emprestimo {\n",
    "    double s, j, p_atual;\n",
    "    int n;    // Número de parcelas\n",
    "};\n",
    "\n",
    "void inicializa_emprestimo(struct Emprestimo *emp, double s, double j, int n){\n",
    "    emp->s = s;\n",
    "    emp->p_atual = s;\n",
    "    emp->j = j;\n",
    "    emp->n = n;\n",
    "}\n",
    "\n",
    "void calcula_proxima_parcela(struct Emprestimo *emp){\n",
    "    emp->p_atual *= (1 + emp->j);\n",
    "}\n",
    "\n",
    "int main(){\n",
    "    struct Emprestimo emp;\n",
    "    inicializa_emprestimo(&emp, 200, 0.01, 5);\n",
    "    \n",
    "    for (int i=0;i<emp.n;i++){\n",
    "        printf(\"%.2f\\n\", emp.p_atual);\n",
    "        calcula_proxima_parcela(&emp);\n",
    "    }\n",
    "}"
   ]
  },
  {
   "cell_type": "markdown",
   "metadata": {},
   "source": [
    "## Exercício Parte 3 - Minimizando os Parâmetros\n",
    "\n",
    "Modifique o módulo para que o cliente (que chama a função) use o mínimo de parâmetros possíveis. Para isso a sua função precisa estar ciente do estado corrente do empréstimo, ou seja, ela precisará saber qual a próxima parcela que ela precisa calcular sem que lhe seja informado, para isso:\n",
    "* evite informar recorrentemente como parâmetros dados sobre as características do empréstimo;\n",
    "* evite usar informações de controle (e.g., parcela corrente) como parâmetro."
   ]
  },
  {
   "cell_type": "code",
   "execution_count": 10,
   "metadata": {},
   "outputs": [
    {
     "name": "stdout",
     "output_type": "stream",
     "text": [
      "200.00\n",
      "202.00\n",
      "204.02\n",
      "206.06\n",
      "208.12\n"
     ]
    }
   ],
   "source": [
    "/*\n",
    " * NOTA: Eu basicamente copiei o código da atividade 2 pois quando cheguei aqui eu\n",
    " * já tinha feito o que tinha que fazer na atividade 3.\n",
    " */\n",
    "\n",
    "#include <stdio.h>\n",
    "\n",
    "struct Emprestimo {\n",
    "    double s, j, p_atual;\n",
    "    int n;    // Número de parcelas\n",
    "};\n",
    "\n",
    "void inicializa_emprestimo(struct Emprestimo *emp, double s, double j, int n){\n",
    "    emp->s = s;\n",
    "    emp->p_atual = s;\n",
    "    emp->j = j;\n",
    "    emp->n = n;\n",
    "}\n",
    "\n",
    "void calcula_proxima_parcela(struct Emprestimo *emp){\n",
    "    // Eu poderia colocar aqui um código de checagem para ver se todas as parcelas foram pagas, mas como\n",
    "    // é garantido que o loop executa sempre um número limitado de vezes, isso não será necessário.\n",
    "    emp->p_atual *= (1 + emp->j);\n",
    "}\n",
    "\n",
    "int main(){\n",
    "    struct Emprestimo emp;\n",
    "    inicializa_emprestimo(&emp, 200, 0.01, 5);\n",
    "    \n",
    "    for (int i=0;i<emp.n;i++){\n",
    "        printf(\"%.2f\\n\", emp.p_atual);\n",
    "        calcula_proxima_parcela(&emp);\n",
    "    }\n",
    "}"
   ]
  },
  {
   "cell_type": "markdown",
   "metadata": {},
   "source": [
    "## Exercício Parte 4 - Minimizando os Parâmetros\n",
    "\n",
    "Partindo da Solução da Parte 2, modifique a forma como você representa o empréstimo, de forma que a função que calcula a próxima parcela receba um único parâmetro."
   ]
  },
  {
   "cell_type": "code",
   "execution_count": 11,
   "metadata": {},
   "outputs": [
    {
     "name": "stdout",
     "output_type": "stream",
     "text": [
      "200.00\n",
      "202.00\n",
      "204.02\n",
      "206.06\n",
      "208.12\n"
     ]
    }
   ],
   "source": [
    "/*\n",
    " * NOTA: Eu basicamente copiei o código da atividade 2 pois quando cheguei aqui eu\n",
    " * já tinha feito o que tinha que fazer na atividade 4. De novo, as atividades pedem pra fazer a mesma coisa...\n",
    " */\n",
    "\n",
    "#include <stdio.h>\n",
    "\n",
    "struct Emprestimo {\n",
    "    double s, j, p_atual;\n",
    "    int n;    // Número de parcelas\n",
    "};\n",
    "\n",
    "void inicializa_emprestimo(struct Emprestimo *emp, double s, double j, int n){\n",
    "    emp->s = s;\n",
    "    emp->p_atual = s;\n",
    "    emp->j = j;\n",
    "    emp->n = n;\n",
    "}\n",
    "\n",
    "void calcula_proxima_parcela(struct Emprestimo *emp){\n",
    "    // Eu poderia colocar aqui um código de checagem para ver se todas as parcelas foram pagas, mas como\n",
    "    // é garantido que o loop executa sempre um número limitado de vezes, isso não será necessário.\n",
    "    emp->p_atual *= (1 + emp->j);\n",
    "}\n",
    "\n",
    "int main(){\n",
    "    struct Emprestimo emp;\n",
    "    inicializa_emprestimo(&emp, 200, 0.01, 5);\n",
    "    \n",
    "    for (int i=0;i<emp.n;i++){\n",
    "        printf(\"%.2f\\n\", emp.p_atual);\n",
    "        calcula_proxima_parcela(&emp);\n",
    "    }\n",
    "}"
   ]
  },
  {
   "cell_type": "markdown",
   "metadata": {},
   "source": [
    "## Exercício Parte 5 - Múltiplos Empréstimos\n",
    "\n",
    "Considere que há múltiplos empréstimos que podem ser controlados em paralelo. O seu programa deve ser capaz de informar as parcelas de mais de um empréstimo, mantendo um controle para cada empréstimo separadamente. Você deve decidir qual das soluções tomará como ponto de partida, se deve modificar o programa principal, a função ou ambos para atender esse requisito da melhor forma possível.\n",
    "\n",
    "Por exemplo, suponha os seguintes dois empréstimos em paralelo:\n",
    "\n",
    "### Empréstimo 1\n",
    "* `S`: 200\n",
    "* `N`: 5\n",
    "* `J`: 1%\n",
    "\n",
    "### Empréstimo 2\n",
    "* `S`: 500\n",
    "* `N`: 7\n",
    "* `J`: 2%\n",
    "\n",
    "A saída esperada é:\n",
    "~~~\n",
    "Emprestimo 1: parcela 1 eh 200.00\n",
    "Emprestimo 2: parcela 1 eh 500.00\n",
    "Emprestimo 1: parcela 2 eh 202.00\n",
    "Emprestimo 2: parcela 2 eh 510.00\n",
    "Emprestimo 1: parcela 3 eh 204.02\n",
    "Emprestimo 2: parcela 3 eh 520.20\n",
    "Emprestimo 1: parcela 4 eh 206.06\n",
    "Emprestimo 2: parcela 4 eh 530.60\n",
    "Emprestimo 1: parcela 5 eh 208.12\n",
    "Emprestimo 2: parcela 5 eh 541.22\n",
    "Emprestimo 2: parcela 6 eh 552.04\n",
    "Emprestimo 2: parcela 7 eh 563.08\n",
    "~~~\n",
    "\n",
    "O exemplo mostra dois empréstimos, mas a estrutura deve ser genérica o suficiente para controlar N empréstimos em paralelo."
   ]
  },
  {
   "cell_type": "code",
   "execution_count": 12,
   "metadata": {},
   "outputs": [
    {
     "name": "stdout",
     "output_type": "stream",
     "text": [
      "Emprestimo 1: 200.00\n",
      "Emprestimo 2: 500.00\n",
      "Emprestimo 1: 202.00\n",
      "Emprestimo 2: 510.00\n",
      "Emprestimo 1: 204.02\n",
      "Emprestimo 2: 520.20\n",
      "Emprestimo 1: 206.06\n",
      "Emprestimo 2: 530.60\n",
      "Emprestimo 1: 208.12\n",
      "Emprestimo 2: 541.22\n",
      "Emprestimo 1: 210.20\n",
      "Emprestimo 2: 552.04\n",
      "Emprestimo 1: 0.00\n",
      "Emprestimo 2: 563.08\n",
      "Emprestimo 1: 0.00\n",
      "Emprestimo 2: 574.34\n"
     ]
    }
   ],
   "source": [
    "/*\n",
    " * NOTA: Eu basicamente copiei o código da atividade 2 para reaproveitar o módulo, mas mudei o código principal do programa para\n",
    " * fazer dois empréstimos ao invés de apenas um. Nesse caso tive que implementar a checagem na função que calcula as próximas parcelas\n",
    " */\n",
    "\n",
    "#include <stdio.h>\n",
    "\n",
    "struct Emprestimo {\n",
    "    double s, j, p_atual;\n",
    "    int n, n_atual;    // Número de parcelas, número da parcela atual\n",
    "};\n",
    "\n",
    "void inicializa_emprestimo(struct Emprestimo *emp, double s, double j, int n){\n",
    "    emp->s = s;\n",
    "    emp->p_atual = s;\n",
    "    emp->j = j;\n",
    "    emp->n = n;\n",
    "    emp->n_atual = 0;\n",
    "}\n",
    "\n",
    "void calcula_proxima_parcela(struct Emprestimo *emp){\n",
    "    if (emp->n_atual < emp->n) {\n",
    "        emp->p_atual *= (1 + emp->j);\n",
    "    } else {\n",
    "        emp->p_atual = 0;\n",
    "    }\n",
    "    emp->n_atual++;\n",
    "}\n",
    "\n",
    "int main(){\n",
    "    struct Emprestimo emp1, emp2;\n",
    "    inicializa_emprestimo(&emp1, 200, 0.01, 5);\n",
    "    inicializa_emprestimo(&emp2, 500, 0.02, 7);\n",
    "    \n",
    "    // Nota: os empréstimos poderiam ter sido processados em qualquer ordem, não precisa ser alternadamente.\n",
    "    while (emp1.p_atual > 0 || emp2.p_atual > 0){\n",
    "        printf(\"Emprestimo 1: %.2f\\n\", emp1.p_atual);\n",
    "        printf(\"Emprestimo 2: %.2f\\n\", emp2.p_atual);\n",
    "        calcula_proxima_parcela(&emp1);\n",
    "        calcula_proxima_parcela(&emp2);\n",
    "    }\n",
    "}"
   ]
  },
  {
   "cell_type": "code",
   "execution_count": 22,
   "metadata": {},
   "outputs": [
    {
     "name": "stdout",
     "output_type": "stream",
     "text": [
      "DANIEL\n"
     ]
    }
   ],
   "source": [
    "#include <stdio.h>\n",
    "\n",
    "int main(void){\n",
    "    double a =   4.85222707287190670673520541643E-310;\n",
    "    char c, *p = (char*) &a;\n",
    "    while (*p != '\\0'){\n",
    "        c = ((*p - 52) % 26) + 65;\n",
    "        printf(\"%c\", c);\n",
    "        p++;\n",
    "    }\n",
    "    printf(\"\\n\");\n",
    "}"
   ]
  },
  {
   "cell_type": "code",
   "execution_count": null,
   "metadata": {},
   "outputs": [],
   "source": []
  }
 ],
 "metadata": {
  "kernelspec": {
   "display_name": "C",
   "language": "c",
   "name": "c"
  },
  "language_info": {
   "file_extension": ".c",
   "mimetype": "text/plain",
   "name": "c"
  }
 },
 "nbformat": 4,
 "nbformat_minor": 4
}
